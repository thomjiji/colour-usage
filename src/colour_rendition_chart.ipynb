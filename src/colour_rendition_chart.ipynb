{
 "cells": [
  {
   "cell_type": "code",
   "execution_count": null,
   "metadata": {},
   "outputs": [],
   "source": [
    "from colour.plotting import plot_single_colour_checker\n",
    "\n",
    "plot_single_colour_checker(\n",
    "    colour_checker=\"ColorChecker 2005\", text_kwargs={\"visible\": False}\n",
    ")"
   ]
  },
  {
   "cell_type": "code",
   "execution_count": null,
   "metadata": {},
   "outputs": [],
   "source": [
    "from colour.plotting import plot_single_colour_swatch, ColourSwatch\n",
    "\n",
    "plot_single_colour_swatch(\n",
    "    ColourSwatch((0.32315746, 0.32983556, 0.33640183), \"Neutral 5 (.70 D)\"),\n",
    "    text_size=32,\n",
    ")"
   ]
  },
  {
   "cell_type": "code",
   "execution_count": null,
   "metadata": {},
   "outputs": [],
   "source": []
  }
 ],
 "metadata": {
  "kernelspec": {
   "display_name": "Python 3.10.7 ('.venv': venv)",
   "language": "python",
   "name": "python3"
  },
  "language_info": {
   "codemirror_mode": {
    "name": "ipython",
    "version": 3
   },
   "file_extension": ".py",
   "mimetype": "text/x-python",
   "name": "python",
   "nbconvert_exporter": "python",
   "pygments_lexer": "ipython3",
   "version": "3.10.7"
  },
  "orig_nbformat": 4,
  "vscode": {
   "interpreter": {
    "hash": "e4dc4acef14d0322fa7d4ac76ae2dd3852e6196e68159a7b5c20e6c265dba71a"
   }
  }
 },
 "nbformat": 4,
 "nbformat_minor": 2
}
